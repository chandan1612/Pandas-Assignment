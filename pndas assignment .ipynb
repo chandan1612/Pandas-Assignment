{
 "cells": [
  {
   "cell_type": "code",
   "execution_count": 2,
   "id": "9e11ed3f-5e6f-482b-9f02-59322c0b2323",
   "metadata": {},
   "outputs": [],
   "source": [
    "#Q1. Create a Pandas Series that contains the following data: 4, 8, 15, 16, 23, and 42. Then, print the series.\n",
    "import pandas as pd"
   ]
  },
  {
   "cell_type": "code",
   "execution_count": 3,
   "id": "34ddd067-7c71-4bbc-abe8-ed427637c086",
   "metadata": {},
   "outputs": [
    {
     "name": "stdout",
     "output_type": "stream",
     "text": [
      "Requirement already satisfied: pandas in /opt/conda/lib/python3.10/site-packages (1.5.2)\n",
      "Requirement already satisfied: python-dateutil>=2.8.1 in /opt/conda/lib/python3.10/site-packages (from pandas) (2.8.2)\n",
      "Requirement already satisfied: pytz>=2020.1 in /opt/conda/lib/python3.10/site-packages (from pandas) (2022.6)\n",
      "Requirement already satisfied: numpy>=1.21.0 in /opt/conda/lib/python3.10/site-packages (from pandas) (1.23.5)\n",
      "Requirement already satisfied: six>=1.5 in /opt/conda/lib/python3.10/site-packages (from python-dateutil>=2.8.1->pandas) (1.16.0)\n",
      "Note: you may need to restart the kernel to use updated packages.\n"
     ]
    }
   ],
   "source": [
    "pip install pandas"
   ]
  },
  {
   "cell_type": "code",
   "execution_count": 4,
   "id": "3326fc5a-0e62-4ba2-a092-44cb366c8b4c",
   "metadata": {},
   "outputs": [],
   "source": [
    "list = [4,8,15,16,23,42]\n",
    "s = pd.Series(list)"
   ]
  },
  {
   "cell_type": "code",
   "execution_count": 5,
   "id": "351a309a-c4cf-44f1-9d1e-c1de7bf0a3f5",
   "metadata": {},
   "outputs": [
    {
     "data": {
      "text/plain": [
       "0     4\n",
       "1     8\n",
       "2    15\n",
       "3    16\n",
       "4    23\n",
       "5    42\n",
       "dtype: int64"
      ]
     },
     "execution_count": 5,
     "metadata": {},
     "output_type": "execute_result"
    }
   ],
   "source": [
    "s"
   ]
  },
  {
   "cell_type": "code",
   "execution_count": 6,
   "id": "6dedd29f-2a76-4354-8004-ed0bb4ffe8b8",
   "metadata": {},
   "outputs": [],
   "source": [
    "list1 = [3,5,6,2,5,6]\n",
    "s1= pd.Series(list1)"
   ]
  },
  {
   "cell_type": "code",
   "execution_count": 7,
   "id": "367e41a9-889f-489b-9366-1a8876ac1e06",
   "metadata": {},
   "outputs": [
    {
     "data": {
      "text/plain": [
       "0    3\n",
       "1    5\n",
       "2    6\n",
       "3    2\n",
       "4    5\n",
       "5    6\n",
       "dtype: int64"
      ]
     },
     "execution_count": 7,
     "metadata": {},
     "output_type": "execute_result"
    }
   ],
   "source": [
    "s1"
   ]
  },
  {
   "cell_type": "code",
   "execution_count": 8,
   "id": "632db30b-2c6e-4c4b-9dd8-afde02dc18d3",
   "metadata": {},
   "outputs": [],
   "source": [
    "# Q2. Create a variable of list type containing 10 elements in it, and apply pandas.Series function on the\n",
    "# variable print it."
   ]
  },
  {
   "cell_type": "code",
   "execution_count": 9,
   "id": "9608f8ee-070a-423d-9c7c-a3fd4ae41b8a",
   "metadata": {},
   "outputs": [
    {
     "data": {
      "text/plain": [
       "0     7\n",
       "1    13\n",
       "2    21\n",
       "3    18\n",
       "4    28\n",
       "5    48\n",
       "dtype: int64"
      ]
     },
     "execution_count": 9,
     "metadata": {},
     "output_type": "execute_result"
    }
   ],
   "source": [
    "#1. Addition\n",
    "s+s1"
   ]
  },
  {
   "cell_type": "code",
   "execution_count": 10,
   "id": "fe69c4e7-2f7e-44f8-8dc5-11102afdc042",
   "metadata": {},
   "outputs": [],
   "source": [
    "var1 = pd.Series([1,2,3,4], index = 'usa  bali uk  rome'.split()) # question to ask why we use split."
   ]
  },
  {
   "cell_type": "code",
   "execution_count": 11,
   "id": "47caa0e2-1ac5-41e0-a96a-1eddbc7ebfea",
   "metadata": {},
   "outputs": [
    {
     "data": {
      "text/plain": [
       "usa     1\n",
       "bali    2\n",
       "uk      3\n",
       "rome    4\n",
       "dtype: int64"
      ]
     },
     "execution_count": 11,
     "metadata": {},
     "output_type": "execute_result"
    }
   ],
   "source": [
    "var1"
   ]
  },
  {
   "cell_type": "code",
   "execution_count": 12,
   "id": "a386c2fc-a28f-4280-9a29-073f5c6be7b4",
   "metadata": {},
   "outputs": [
    {
     "data": {
      "text/plain": [
       "0     12\n",
       "1     40\n",
       "2     90\n",
       "3     32\n",
       "4    115\n",
       "5    252\n",
       "dtype: int64"
      ]
     },
     "execution_count": 12,
     "metadata": {},
     "output_type": "execute_result"
    }
   ],
   "source": [
    "#multiplication\n",
    "s*s1"
   ]
  },
  {
   "cell_type": "code",
   "execution_count": 13,
   "id": "268b3cc4-59f2-4c2c-ba80-f07b85b63b8b",
   "metadata": {},
   "outputs": [
    {
     "data": {
      "text/plain": [
       "usa     1\n",
       "bali    2\n",
       "dtype: int64"
      ]
     },
     "execution_count": 13,
     "metadata": {},
     "output_type": "execute_result"
    }
   ],
   "source": [
    "#Using iloc we can extract data in between two indexes\n",
    "var1.iloc[0:2]"
   ]
  },
  {
   "cell_type": "code",
   "execution_count": 14,
   "id": "9f0bffe4-0ae4-4278-9122-693ceeba3f7f",
   "metadata": {},
   "outputs": [
    {
     "data": {
      "text/plain": [
       "dtype('int64')"
      ]
     },
     "execution_count": 14,
     "metadata": {},
     "output_type": "execute_result"
    }
   ],
   "source": [
    "s.dtypes"
   ]
  },
  {
   "cell_type": "code",
   "execution_count": 15,
   "id": "452c302c-ebf9-4ce1-b4b8-a5f8b0cc777c",
   "metadata": {},
   "outputs": [],
   "source": [
    "# finding mean value of s"
   ]
  },
  {
   "cell_type": "code",
   "execution_count": 16,
   "id": "9c1949c6-42c5-4ed0-9b72-35221919d9a3",
   "metadata": {},
   "outputs": [
    {
     "data": {
      "text/plain": [
       "18.0"
      ]
     },
     "execution_count": 16,
     "metadata": {},
     "output_type": "execute_result"
    }
   ],
   "source": [
    "s.mean()"
   ]
  },
  {
   "cell_type": "code",
   "execution_count": 17,
   "id": "d464d1dc-4d8b-433b-aafa-f675a1940710",
   "metadata": {},
   "outputs": [
    {
     "data": {
      "text/plain": [
       "0    3\n",
       "1    5\n",
       "2    6\n",
       "3    2\n",
       "4    5\n",
       "5    6\n",
       "dtype: int64"
      ]
     },
     "execution_count": 17,
     "metadata": {},
     "output_type": "execute_result"
    }
   ],
   "source": [
    "s1.abs()"
   ]
  },
  {
   "cell_type": "code",
   "execution_count": 18,
   "id": "81af9e8e-bfb8-4b6a-934e-2e56ac8f596e",
   "metadata": {},
   "outputs": [
    {
     "data": {
      "text/plain": [
       "6"
      ]
     },
     "execution_count": 18,
     "metadata": {},
     "output_type": "execute_result"
    }
   ],
   "source": [
    "s1.count()"
   ]
  },
  {
   "cell_type": "code",
   "execution_count": 19,
   "id": "19200b2b-2f3a-4d17-b619-b5d157ff3f64",
   "metadata": {},
   "outputs": [
    {
     "data": {
      "text/plain": [
       "False"
      ]
     },
     "execution_count": 19,
     "metadata": {},
     "output_type": "execute_result"
    }
   ],
   "source": [
    "s1.is_unique"
   ]
  },
  {
   "cell_type": "code",
   "execution_count": 20,
   "id": "de6d091f-0a8a-482c-8a7e-ce0a59991bff",
   "metadata": {},
   "outputs": [],
   "source": [
    "#Q3. Create a Pandas DataFrame that contains the following data:\n",
    "data = {\n",
    "    \"name\" : ['Alice' , 'Bob', 'Claire'],\n",
    "    \"age\" :[25,30,27],\n",
    "    \"gender\" : ['female', 'male' ,'female']\n",
    "}\n",
    "df = pd.DataFrame(data)"
   ]
  },
  {
   "cell_type": "code",
   "execution_count": 21,
   "id": "fc926781-e445-487a-9cdb-42b95edb493f",
   "metadata": {},
   "outputs": [
    {
     "data": {
      "text/html": [
       "<div>\n",
       "<style scoped>\n",
       "    .dataframe tbody tr th:only-of-type {\n",
       "        vertical-align: middle;\n",
       "    }\n",
       "\n",
       "    .dataframe tbody tr th {\n",
       "        vertical-align: top;\n",
       "    }\n",
       "\n",
       "    .dataframe thead th {\n",
       "        text-align: right;\n",
       "    }\n",
       "</style>\n",
       "<table border=\"1\" class=\"dataframe\">\n",
       "  <thead>\n",
       "    <tr style=\"text-align: right;\">\n",
       "      <th></th>\n",
       "      <th>name</th>\n",
       "      <th>age</th>\n",
       "      <th>gender</th>\n",
       "    </tr>\n",
       "  </thead>\n",
       "  <tbody>\n",
       "    <tr>\n",
       "      <th>0</th>\n",
       "      <td>Alice</td>\n",
       "      <td>25</td>\n",
       "      <td>female</td>\n",
       "    </tr>\n",
       "    <tr>\n",
       "      <th>1</th>\n",
       "      <td>Bob</td>\n",
       "      <td>30</td>\n",
       "      <td>male</td>\n",
       "    </tr>\n",
       "    <tr>\n",
       "      <th>2</th>\n",
       "      <td>Claire</td>\n",
       "      <td>27</td>\n",
       "      <td>female</td>\n",
       "    </tr>\n",
       "  </tbody>\n",
       "</table>\n",
       "</div>"
      ],
      "text/plain": [
       "     name  age  gender\n",
       "0   Alice   25  female\n",
       "1     Bob   30    male\n",
       "2  Claire   27  female"
      ]
     },
     "execution_count": 21,
     "metadata": {},
     "output_type": "execute_result"
    }
   ],
   "source": [
    "df"
   ]
  },
  {
   "cell_type": "code",
   "execution_count": 22,
   "id": "32a6c0e7-0129-4210-837a-10e98fd3e4d4",
   "metadata": {},
   "outputs": [],
   "source": [
    "#  Q4. What is ‘DataFrame’ in pandas and how is it different from pandas.series? Explain with an example.\n",
    "\n",
    "# DataFrame: It is two dimensional data structure in pandas which is in the tabular form which means it stores the data in the tabular form.\n",
    "# Series: Pandas Series is a one-dimensional labeled array whose object size cannot be changed.\n"
   ]
  },
  {
   "cell_type": "code",
   "execution_count": 23,
   "id": "134dcdac-3eee-4dd2-8f66-4e5541eb41f4",
   "metadata": {},
   "outputs": [
    {
     "data": {
      "text/html": [
       "<div>\n",
       "<style scoped>\n",
       "    .dataframe tbody tr th:only-of-type {\n",
       "        vertical-align: middle;\n",
       "    }\n",
       "\n",
       "    .dataframe tbody tr th {\n",
       "        vertical-align: top;\n",
       "    }\n",
       "\n",
       "    .dataframe thead th {\n",
       "        text-align: right;\n",
       "    }\n",
       "</style>\n",
       "<table border=\"1\" class=\"dataframe\">\n",
       "  <thead>\n",
       "    <tr style=\"text-align: right;\">\n",
       "      <th></th>\n",
       "      <th>name</th>\n",
       "      <th>age</th>\n",
       "      <th>gender</th>\n",
       "    </tr>\n",
       "  </thead>\n",
       "  <tbody>\n",
       "    <tr>\n",
       "      <th>0</th>\n",
       "      <td>Alice</td>\n",
       "      <td>25</td>\n",
       "      <td>female</td>\n",
       "    </tr>\n",
       "    <tr>\n",
       "      <th>1</th>\n",
       "      <td>Bob</td>\n",
       "      <td>30</td>\n",
       "      <td>male</td>\n",
       "    </tr>\n",
       "    <tr>\n",
       "      <th>2</th>\n",
       "      <td>Claire</td>\n",
       "      <td>27</td>\n",
       "      <td>female</td>\n",
       "    </tr>\n",
       "  </tbody>\n",
       "</table>\n",
       "</div>"
      ],
      "text/plain": [
       "     name  age  gender\n",
       "0   Alice   25  female\n",
       "1     Bob   30    male\n",
       "2  Claire   27  female"
      ]
     },
     "execution_count": 23,
     "metadata": {},
     "output_type": "execute_result"
    }
   ],
   "source": [
    "#example\n",
    "df # it represents the data frame which consist of rows and columns"
   ]
  },
  {
   "cell_type": "code",
   "execution_count": 24,
   "id": "7519504c-3896-459e-a8d5-007c4bed1056",
   "metadata": {},
   "outputs": [
    {
     "data": {
      "text/plain": [
       "0    3\n",
       "1    5\n",
       "2    6\n",
       "3    2\n",
       "4    5\n",
       "5    6\n",
       "dtype: int64"
      ]
     },
     "execution_count": 24,
     "metadata": {},
     "output_type": "execute_result"
    }
   ],
   "source": [
    "s1# this is an example of series"
   ]
  },
  {
   "cell_type": "code",
   "execution_count": 25,
   "id": "71cb55b0-0643-45a4-8b74-b83dd5e7ee2f",
   "metadata": {},
   "outputs": [],
   "source": [
    "# Q5. What are some common functions you can use to manipulate data in a Pandas DataFrame? Can\n",
    "# you give an example of when you might use one of these functions?"
   ]
  },
  {
   "cell_type": "code",
   "execution_count": 26,
   "id": "5c98b792-76c1-42c0-863a-fa1340c195e8",
   "metadata": {},
   "outputs": [
    {
     "data": {
      "text/html": [
       "<div>\n",
       "<style scoped>\n",
       "    .dataframe tbody tr th:only-of-type {\n",
       "        vertical-align: middle;\n",
       "    }\n",
       "\n",
       "    .dataframe tbody tr th {\n",
       "        vertical-align: top;\n",
       "    }\n",
       "\n",
       "    .dataframe thead th {\n",
       "        text-align: right;\n",
       "    }\n",
       "</style>\n",
       "<table border=\"1\" class=\"dataframe\">\n",
       "  <thead>\n",
       "    <tr style=\"text-align: right;\">\n",
       "      <th></th>\n",
       "      <th>name</th>\n",
       "      <th>age</th>\n",
       "      <th>gender</th>\n",
       "    </tr>\n",
       "  </thead>\n",
       "  <tbody>\n",
       "    <tr>\n",
       "      <th>0</th>\n",
       "      <td>Alice</td>\n",
       "      <td>25</td>\n",
       "      <td>female</td>\n",
       "    </tr>\n",
       "    <tr>\n",
       "      <th>1</th>\n",
       "      <td>Bob</td>\n",
       "      <td>30</td>\n",
       "      <td>male</td>\n",
       "    </tr>\n",
       "  </tbody>\n",
       "</table>\n",
       "</div>"
      ],
      "text/plain": [
       "    name  age  gender\n",
       "0  Alice   25  female\n",
       "1    Bob   30    male"
      ]
     },
     "execution_count": 26,
     "metadata": {},
     "output_type": "execute_result"
    }
   ],
   "source": [
    "# some common function are \n",
    "#1.head() it gives the first five or you can also extract only the data of the first column using head(1)\n",
    "df.head(2)"
   ]
  },
  {
   "cell_type": "code",
   "execution_count": 29,
   "id": "0cf97172-9829-4bff-8c35-253e5a32e08f",
   "metadata": {},
   "outputs": [
    {
     "data": {
      "text/plain": [
       "6"
      ]
     },
     "execution_count": 29,
     "metadata": {},
     "output_type": "execute_result"
    }
   ],
   "source": [
    "s.index.size #index.size is used  to find the number of elements in the underlying data of the given Index object."
   ]
  },
  {
   "cell_type": "code",
   "execution_count": 31,
   "id": "736a37f0-93c1-4929-942e-03ed1d35b235",
   "metadata": {},
   "outputs": [
    {
     "data": {
      "text/plain": [
       "2    6\n",
       "1    5\n",
       "5    6\n",
       "dtype: int64"
      ]
     },
     "execution_count": 31,
     "metadata": {},
     "output_type": "execute_result"
    }
   ],
   "source": [
    "s1.sample(3) # sample is used to give any three random value in it."
   ]
  },
  {
   "cell_type": "code",
   "execution_count": 32,
   "id": "0a00003e-c9ee-4db4-9b33-31fab9264bfe",
   "metadata": {},
   "outputs": [],
   "source": [
    "# Q6. Which of the following is mutable in nature Series, DataFrame, Panel?\n",
    "\n",
    "# All the data structures of the pandas are mutable.Expect series, series is also mutable but size immutable."
   ]
  },
  {
   "cell_type": "code",
   "execution_count": 33,
   "id": "04a34490-b6d9-4ceb-8c6b-761faa0ad642",
   "metadata": {},
   "outputs": [],
   "source": [
    "# Q7. Create a DataFrame using multiple Series. Explain with an example."
   ]
  },
  {
   "cell_type": "code",
   "execution_count": 34,
   "id": "a1e1cef2-2687-408f-8f67-58a4d70bb82c",
   "metadata": {},
   "outputs": [],
   "source": [
    "course = pd.Series([\"spark\" , \"pyspark\" , \"Hadoop\"])"
   ]
  },
  {
   "cell_type": "code",
   "execution_count": 35,
   "id": "63c47e67-f404-47ec-b797-31c93249ade5",
   "metadata": {},
   "outputs": [
    {
     "data": {
      "text/plain": [
       "0      spark\n",
       "1    pyspark\n",
       "2     Hadoop\n",
       "dtype: object"
      ]
     },
     "execution_count": 35,
     "metadata": {},
     "output_type": "execute_result"
    }
   ],
   "source": [
    "course"
   ]
  },
  {
   "cell_type": "code",
   "execution_count": 36,
   "id": "c7e8d82d-05c0-456a-b7ad-e56ef5df4f24",
   "metadata": {},
   "outputs": [],
   "source": [
    "Fees = pd.Series([20000 , 25000 , 30000])"
   ]
  },
  {
   "cell_type": "code",
   "execution_count": 37,
   "id": "88e5919b-34aa-43c8-aae5-8781d26d0fb8",
   "metadata": {},
   "outputs": [
    {
     "data": {
      "text/plain": [
       "0    20000\n",
       "1    25000\n",
       "2    30000\n",
       "dtype: int64"
      ]
     },
     "execution_count": 37,
     "metadata": {},
     "output_type": "execute_result"
    }
   ],
   "source": [
    "Fees"
   ]
  },
  {
   "cell_type": "code",
   "execution_count": 38,
   "id": "6d6ca9c4-cc21-4af8-a4ee-c656a90366ec",
   "metadata": {},
   "outputs": [],
   "source": [
    "Discount = pd.Series([1000 , 2000 , 3000])"
   ]
  },
  {
   "cell_type": "code",
   "execution_count": 39,
   "id": "9927e796-0bd6-427d-a1de-1bbfdc1d475b",
   "metadata": {},
   "outputs": [
    {
     "data": {
      "text/plain": [
       "0    1000\n",
       "1    2000\n",
       "2    3000\n",
       "dtype: int64"
      ]
     },
     "execution_count": 39,
     "metadata": {},
     "output_type": "execute_result"
    }
   ],
   "source": [
    "Discount"
   ]
  },
  {
   "cell_type": "code",
   "execution_count": 42,
   "id": "6782742b-fc5a-45e0-b179-4a2f336ac83b",
   "metadata": {},
   "outputs": [],
   "source": [
    "#so these three are the series course Fee and discount now we are going to make it data Frame.\n",
    "df1 = pd.concat([course,Fees,Discount],axis=1) #axis = 1 refers to vertical axis or columns."
   ]
  },
  {
   "cell_type": "code",
   "execution_count": 43,
   "id": "4fc3820c-977e-4c36-9208-24ce82636b78",
   "metadata": {},
   "outputs": [
    {
     "data": {
      "text/html": [
       "<div>\n",
       "<style scoped>\n",
       "    .dataframe tbody tr th:only-of-type {\n",
       "        vertical-align: middle;\n",
       "    }\n",
       "\n",
       "    .dataframe tbody tr th {\n",
       "        vertical-align: top;\n",
       "    }\n",
       "\n",
       "    .dataframe thead th {\n",
       "        text-align: right;\n",
       "    }\n",
       "</style>\n",
       "<table border=\"1\" class=\"dataframe\">\n",
       "  <thead>\n",
       "    <tr style=\"text-align: right;\">\n",
       "      <th></th>\n",
       "      <th>0</th>\n",
       "      <th>1</th>\n",
       "      <th>2</th>\n",
       "    </tr>\n",
       "  </thead>\n",
       "  <tbody>\n",
       "    <tr>\n",
       "      <th>0</th>\n",
       "      <td>spark</td>\n",
       "      <td>20000</td>\n",
       "      <td>1000</td>\n",
       "    </tr>\n",
       "    <tr>\n",
       "      <th>1</th>\n",
       "      <td>pyspark</td>\n",
       "      <td>25000</td>\n",
       "      <td>2000</td>\n",
       "    </tr>\n",
       "    <tr>\n",
       "      <th>2</th>\n",
       "      <td>Hadoop</td>\n",
       "      <td>30000</td>\n",
       "      <td>3000</td>\n",
       "    </tr>\n",
       "  </tbody>\n",
       "</table>\n",
       "</div>"
      ],
      "text/plain": [
       "         0      1     2\n",
       "0    spark  20000  1000\n",
       "1  pyspark  25000  2000\n",
       "2   Hadoop  30000  3000"
      ]
     },
     "execution_count": 43,
     "metadata": {},
     "output_type": "execute_result"
    }
   ],
   "source": [
    "df1"
   ]
  },
  {
   "cell_type": "code",
   "execution_count": null,
   "id": "c57545e1-a5d1-47c5-8c6b-345af8572a86",
   "metadata": {},
   "outputs": [],
   "source": []
  }
 ],
 "metadata": {
  "kernelspec": {
   "display_name": "Python 3 (ipykernel)",
   "language": "python",
   "name": "python3"
  },
  "language_info": {
   "codemirror_mode": {
    "name": "ipython",
    "version": 3
   },
   "file_extension": ".py",
   "mimetype": "text/x-python",
   "name": "python",
   "nbconvert_exporter": "python",
   "pygments_lexer": "ipython3",
   "version": "3.10.8"
  }
 },
 "nbformat": 4,
 "nbformat_minor": 5
}
